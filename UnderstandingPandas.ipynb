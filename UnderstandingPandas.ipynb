{
 "cells": [
  {
   "cell_type": "markdown",
   "metadata": {
    "collapsed": true
   },
   "source": [
    "# Understanding Pandas\n",
    "\n",
    "Most of the code/ demos and excercises here are from the Pandas Fundamentals course on Pluralsight , this is a 100 level course."
   ]
  },
  {
   "cell_type": "markdown",
   "metadata": {},
   "source": [
    "## The basics \n",
    "\n",
    "Three things array, series and a data frame\n",
    "Array could be n dimensional, series has an index, df has a row name as well as a column name \n"
   ]
  },
  {
   "cell_type": "code",
   "execution_count": 15,
   "metadata": {
    "scrolled": true
   },
   "outputs": [
    {
     "name": "stdout",
     "output_type": "stream",
     "text": [
      "[0.65298101 0.76287169 0.26545001]\n",
      "<class 'numpy.ndarray'>\n",
      "0    0.652981\n",
      "1    0.762872\n",
      "2    0.265450\n",
      "dtype: float64\n",
      "[[0.36984489 0.23077675]\n",
      " [0.46755303 0.87426907]\n",
      " [0.30341481 0.99235106]]\n",
      "          0         1\n",
      "0  0.369845  0.230777\n",
      "1  0.467553  0.874269\n",
      "2  0.303415  0.992351\n",
      "0    0.230777\n",
      "1    0.874269\n",
      "2    0.992351\n",
      "Name: Two, dtype: float64\n"
     ]
    }
   ],
   "source": [
    "import numpy as np\n",
    "import pandas as pd\n",
    "\n",
    "# Create a numpy array(single dimension) print out array and the object type\n",
    "my_numpy_array = np.random.rand(3)\n",
    "print(my_numpy_array)\n",
    "print(type(my_numpy_array))\n",
    "\n",
    "# add this array as a series using pandas \n",
    "my_series = pd.Series(my_numpy_array)\n",
    "#print series\n",
    "print(my_series)\n",
    "\n",
    "#passing your own index to the Series\n",
    "#print( \" now with custom index names\\n\")\n",
    "#my_series = pd.Series(my_numpy_array,index=[\"First\",\"Second\",\"Third\"])\n",
    "#print(my_series)\n",
    "\n",
    "#printing the index\n",
    "#print(\"now printing the index\\n\")\n",
    "#print(my_series.index)\n",
    "\n",
    "#Creating a 2d array\n",
    "\n",
    "#priting 2/3 array\n",
    "my_2d_array = np.random.rand(3,2)\n",
    "print(my_2d_array)\n",
    "\n",
    "#putting the 2d array in a dataframe\n",
    "\n",
    "my_df = pd.DataFrame(my_2d_array)\n",
    "#printing the dataFrame\n",
    "\n",
    "print(my_df)\n",
    "\n",
    "#giving names to the rows\n",
    "\n",
    "my_df.columns = [\"one\",\"Two\"]\n",
    "\n",
    "#print the second row\n",
    "\n",
    "print(my_df[\"Two\"])\n",
    "\n",
    "\n"
   ]
  },
  {
   "cell_type": "markdown",
   "metadata": {},
   "source": [
    "## Input Files \n",
    "\n",
    "Couple of steps that we will be doing her, load a CSV file , inspect the data frame . Trying ouyt loading a CSV file into the Azure Library and loading the file from there .\n",
    "\n",
    "Using the / to read the art_work.csv\n",
    "\n",
    "Learning for self, the below code failed when the import pandas as pd statement wasnt used !"
   ]
  },
  {
   "cell_type": "code",
   "execution_count": 4,
   "metadata": {},
   "outputs": [
    {
     "name": "stdout",
     "output_type": "stream",
     "text": [
      "     accession_number          artist artistRole  artistId  \\\n",
      "id                                                           \n",
      "1035           A00001   Blake, Robert     artist        38   \n",
      "1036           A00002   Blake, Robert     artist        38   \n",
      "1037           A00003   Blake, Robert     artist        38   \n",
      "1038           A00004   Blake, Robert     artist        38   \n",
      "1039           A00005  Blake, William     artist        39   \n",
      "\n",
      "                                                  title  \\\n",
      "id                                                        \n",
      "1035  A Figure Bowing before a Seated Old Man with h...   \n",
      "1036  Two Drawings of Frightened Figures, Probably f...   \n",
      "1037  The Preaching of Warning. Verso: An Old Man En...   \n",
      "1038     Six Drawings of Figures with Outstretched Arms   \n",
      "1039  The Circle of the Lustful: Francesca da Rimini...   \n",
      "\n",
      "                    dateText  \\\n",
      "id                             \n",
      "1035          date not known   \n",
      "1036          date not known   \n",
      "1037                 ?c.1785   \n",
      "1038          date not known   \n",
      "1039  1826–7, reprinted 1892   \n",
      "\n",
      "                                                 medium  \\\n",
      "id                                                        \n",
      "1035  Watercolour, ink, chalk and graphite on paper....   \n",
      "1036                                  Graphite on paper   \n",
      "1037        Graphite on paper. Verso: graphite on paper   \n",
      "1038                                  Graphite on paper   \n",
      "1039                            Line engraving on paper   \n",
      "\n",
      "                                             creditLine    year  \\\n",
      "id                                                                \n",
      "1035                Presented by Mrs John Richmond 1922     NaN   \n",
      "1036                Presented by Mrs John Richmond 1922     NaN   \n",
      "1037                Presented by Mrs John Richmond 1922  1785.0   \n",
      "1038                Presented by Mrs John Richmond 1922     NaN   \n",
      "1039  Purchased with the assistance of a special gra...  1826.0   \n",
      "\n",
      "      acquisitionYear             dimensions  width  height  depth units  \\\n",
      "id                                                                         \n",
      "1035             1922  support: 394 x 419 mm    394     419    NaN    mm   \n",
      "1036             1922  support: 311 x 213 mm    311     213    NaN    mm   \n",
      "1037             1922  support: 343 x 467 mm    343     467    NaN    mm   \n",
      "1038             1922  support: 318 x 394 mm    318     394    NaN    mm   \n",
      "1039             1919    image: 243 x 335 mm    243     335    NaN    mm   \n",
      "\n",
      "      inscription  thumbnailCopyright  \\\n",
      "id                                      \n",
      "1035          NaN                 NaN   \n",
      "1036          NaN                 NaN   \n",
      "1037          NaN                 NaN   \n",
      "1038          NaN                 NaN   \n",
      "1039          NaN                 NaN   \n",
      "\n",
      "                                           thumbnailUrl  \\\n",
      "id                                                        \n",
      "1035  http://www.tate.org.uk/art/images/work/A/A00/A...   \n",
      "1036  http://www.tate.org.uk/art/images/work/A/A00/A...   \n",
      "1037  http://www.tate.org.uk/art/images/work/A/A00/A...   \n",
      "1038  http://www.tate.org.uk/art/images/work/A/A00/A...   \n",
      "1039  http://www.tate.org.uk/art/images/work/A/A00/A...   \n",
      "\n",
      "                                                    url  \n",
      "id                                                       \n",
      "1035  http://www.tate.org.uk/art/artworks/blake-a-fi...  \n",
      "1036  http://www.tate.org.uk/art/artworks/blake-two-...  \n",
      "1037  http://www.tate.org.uk/art/artworks/blake-the-...  \n",
      "1038  http://www.tate.org.uk/art/artworks/blake-six-...  \n",
      "1039  http://www.tate.org.uk/art/artworks/blake-the-...  \n"
     ]
    }
   ],
   "source": [
    "import os\n",
    "import pandas as pd\n",
    "df1 = pd.read_csv('artwork_data.csv',nrows=5,index_col='id')\n",
    "print(df1)\n"
   ]
  },
  {
   "cell_type": "markdown",
   "metadata": {},
   "source": [
    "## MatplotLib example \n",
    "\n",
    "Aplog can contain subplots"
   ]
  },
  {
   "cell_type": "code",
   "execution_count": 2,
   "metadata": {},
   "outputs": [
    {
     "name": "stderr",
     "output_type": "stream",
     "text": [
      "/home/nbuser/anaconda3_501/lib/python3.6/site-packages/matplotlib/figure.py:2022: UserWarning: This figure includes Axes that are not compatible with tight_layout, so results might be incorrect.\n",
      "  warnings.warn(\"This figure includes Axes that are not compatible \"\n"
     ]
    },
    {
     "data": {
      "image/png": "[encoded data removed]",
      "text/plain": [
       "<matplotlib.figure.Figure at 0x7fea519d1f60>"
      ]
     },
     "metadata": {},
     "output_type": "display_data"
    }
   ],
   "source": [
    "import matplotlib.pyplot as plt\n",
    "from matplotlib import rcParams\n",
    "rcParams.update({'figure.autolayout':True,\n",
    "                'axes.titlepad':20})\n",
    "fig =plt.figure()\n",
    "subplot = fig.add_subplot(1,1,1)\n"
   ]
  },
  {
   "cell_type": "code",
   "execution_count": null,
   "metadata": {},
   "outputs": [],
   "source": []
  }
 ],
 "metadata": {
  "kernelspec": {
   "display_name": "Python 3.6",
   "language": "python",
   "name": "python36"
  },
  "language_info": {
   "codemirror_mode": {
    "name": "ipython",
    "version": 3
   },
   "file_extension": ".py",
   "mimetype": "text/x-python",
   "name": "python",
   "nbconvert_exporter": "python",
   "pygments_lexer": "ipython3",
   "version": "3.6.3"
  }
 },
 "nbformat": 4,
 "nbformat_minor": 2
}
