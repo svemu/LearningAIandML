{
 "cells": [
  {
   "cell_type": "markdown",
   "metadata": {
    "collapsed": true
   },
   "source": [
    "# The Heading \n",
    "\n",
    "Creating this book in Azure notebooks after importing a blank Git repo from Github. \n",
    "Create a notebook here, which is this, and push the changes to github \n"
   ]
  },
  {
   "cell_type": "code",
   "execution_count": 2,
   "metadata": {},
   "outputs": [
    {
     "name": "stdout",
     "output_type": "stream",
     "text": [
      "hello world - now creating this on Azure Notebooks\n",
      " Next steps - push this to Github\n"
     ]
    }
   ],
   "source": [
    "print(\"hello world - now creating this on Azure Notebooks\")\n",
    "print(\" Next steps - push this to Github\")"
   ]
  },
  {
   "cell_type": "markdown",
   "metadata": {},
   "source": [
    "Some Text and code closed by some text , notebook named as firstnotebook, will test the commit to github now."
   ]
  },
  {
   "cell_type": "code",
   "execution_count": 3,
   "metadata": {},
   "outputs": [
    {
     "name": "stdout",
     "output_type": "stream",
     "text": [
      "discovering the 2FA\n"
     ]
    }
   ],
   "source": [
    "print (\"discovering the 2FA\")"
   ]
  },
  {
   "cell_type": "code",
   "execution_count": null,
   "metadata": {},
   "outputs": [],
   "source": []
  }
 ],
 "metadata": {
  "kernelspec": {
   "display_name": "Python 3.6",
   "language": "python",
   "name": "python36"
  },
  "language_info": {
   "codemirror_mode": {
    "name": "ipython",
    "version": 3
   },
   "file_extension": ".py",
   "mimetype": "text/x-python",
   "name": "python",
   "nbconvert_exporter": "python",
   "pygments_lexer": "ipython3",
   "version": "3.6.3"
  }
 },
 "nbformat": 4,
 "nbformat_minor": 2
}
