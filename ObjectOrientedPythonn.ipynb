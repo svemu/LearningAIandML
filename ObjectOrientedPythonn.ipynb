{
 "cells": [
  {
   "cell_type": "markdown",
   "metadata": {
    "collapsed": true
   },
   "source": [
    "# Understanding Object oriented Python\n",
    "\n",
    "Have spent considerable time by now understanding the basic syntax of Python, dictionary and lists.  Object oriented concepts were described using multiple analogies and metaphors, students, high school students when defining the student as a class.\n",
    "And from time immemorial they have been explained using the concept of Automobiles and cars. \n",
    "\n",
    "Making an attempt here to document my learning\n",
    "\n",
    "This medium article was a good read !\n",
    "\n",
    "https://medium.com/the-renaissance-developer/python-101-object-oriented-programming-part-1-7d5d06833f26\n",
    "\n",
    "In addition Corey Schafer's 6 video list is a great place to start \n",
    "\n",
    "https://www.youtube.com/playlist?list=PL-osiE80TeTsqhIuOqKhwlXsIBIdSeYtc\n",
    "\n"
   ]
  },
  {
   "cell_type": "markdown",
   "metadata": {},
   "source": [
    "## Classes, constructors and methods\n",
    "\n",
    "The first Video from Chris's playlist talks about creating simple classes instantiating them and calling a simple method, either from the object or the class itself passing the instance of an object\n",
    "\n",
    "The metaphor that I want to use for OOP is a book as a class . A class typically contains data and behavior , data typically referred to as attributes and bahvior is the methods.\n",
    "\n",
    "This helps because I am doing the same thing without copying the code and thinking of a different example to solidify my understanding, if you happen to read this, you can chose your own metaphor and follow along."
   ]
  },
  {
   "cell_type": "code",
   "execution_count": 35,
   "metadata": {},
   "outputs": [],
   "source": [
    "# Define the class book which takes the title of the book, name of the author and Genre\n",
    "class book:\n",
    "    def __init__(self,title,author,genre):\n",
    "        self.title = title\n",
    "        self.author = author\n",
    "        self.genre = genre\n",
    "#returns the good reads results of the book \n",
    "\n",
    "    def goodread_results(self):\n",
    "        return f\"https://www.goodreads.com/search?q={self.title}\"\n",
    "    \n",
    "    \n",
    "    "
   ]
  },
  {
   "cell_type": "markdown",
   "metadata": {},
   "source": [
    "After the class is defined, let's define two objects , one of 1Q84 and the other for Watchmen. This will create the objects. Calling the goodread_results function will print  goodread results page for the selected book "
   ]
  },
  {
   "cell_type": "code",
   "execution_count": 36,
   "metadata": {},
   "outputs": [
    {
     "name": "stdout",
     "output_type": "stream",
     "text": [
      "https://www.goodreads.com/search?q=1Q84\n",
      "https://www.goodreads.com/search?q=Watchmen\n"
     ]
    }
   ],
   "source": [
    "IQ84 = book (\"1Q84\",\"Haruki Murakami\",\"Magic Realism\")\n",
    "Watchmen = book (\"Watchmen\",\"John Higgins\",\"Graphic Novel\")\n",
    "\n",
    "print(IQ84.goodread_results())\n",
    "print(Watchmen.goodread_results())\n"
   ]
  },
  {
   "cell_type": "markdown",
   "metadata": {},
   "source": [
    "## Class Variables and Instance variables\n",
    "\n",
    "The second Video is about class variables and instance variables and illustration of how they would change . For this let's assume that these are books being priced in a bargain store and all of these are priced at $15 . We would declare that as the class variable, we will add a new book and use an instance variable to set the price of that slighlty differently, we will also print all the values an object holds using the class.__dict__ function.\n",
    "\n",
    "The above class will be copied as is with a different name to illustrate these, instead of going back and making changes to the previous code block\n"
   ]
  },
  {
   "cell_type": "code",
   "execution_count": 37,
   "metadata": {},
   "outputs": [
    {
     "name": "stdout",
     "output_type": "stream",
     "text": [
      "{'title': '1Q84', 'author': 'Haruki Murakami', 'genre': 'Magic Realism'}\n",
      "{'title': 'Watchmen', 'author': 'John Higgins', 'genre': 'Graphic Novel'}\n",
      "{'title': 'Blankets', 'author': 'Craig McMillan', 'genre': 'Graphic Novel'}\n",
      "printing prices, first two are where the class variable is not overwritten\n",
      "15\n",
      "15\n",
      "20\n",
      "\n",
      "\n",
      "{'__module__': '__main__', 'book_price': 15, '__init__': <function FictionBook.__init__ at 0x7fda2112f268>, 'goodread_results': <function FictionBook.goodread_results at 0x7fda2112fc80>, '__dict__': <attribute '__dict__' of 'FictionBook' objects>, '__weakref__': <attribute '__weakref__' of 'FictionBook' objects>, '__doc__': None}\n"
     ]
    }
   ],
   "source": [
    "# Define the class FictionBook which takes the title of the book, name of the author and Genre\n",
    "class FictionBook:\n",
    "    book_price = 15\n",
    "    \n",
    "    def __init__(self,title,author,genre):\n",
    "        self.title = title\n",
    "        self.author = author\n",
    "        self.genre = genre\n",
    "#returns the good reads results of the book \n",
    "\n",
    "    def goodread_results(self):\n",
    "        return f\"https://www.goodreads.com/search?q={self.title}\"\n",
    "    \n",
    "# create three objects \n",
    "\n",
    "IQ84 = FictionBook (\"1Q84\",\"Haruki Murakami\",\"Magic Realism\")\n",
    "Watchmen = FictionBook (\"Watchmen\",\"John Higgins\",\"Graphic Novel\")\n",
    "Blankets = FictionBook (\"Blankets\",\"Craig McMillan\",\"Graphic Novel\")\n",
    "\n",
    "#print whats in the class\n",
    " \n",
    "print(IQ84.__dict__)\n",
    "print(Watchmen.__dict__)\n",
    "print(Blankets.__dict__)\n",
    "\n",
    "#overwite the class variable for Blankets to 20\n",
    "\n",
    "Blankets.book_price = 20\n",
    "\n",
    "#print the book price for each book after the change\n",
    "\n",
    "print (\"printing prices, first two are where the class variable is not overwritten\")\n",
    "print(IQ84.book_price)\n",
    "print(Watchmen.book_price)\n",
    "print(Blankets.book_price)\n",
    "\n",
    "# And finally the class itself\n",
    "print(\"\\n\")\n",
    "print(FictionBook.__dict__)"
   ]
  },
  {
   "cell_type": "markdown",
   "metadata": {},
   "source": [
    "## Class methods, Regular Methods and Static Methods\n",
    "\n",
    "In the third video Corey explains three types of methods which are \n",
    "\n",
    "1. The class methods, these are special methods that take the class automatically as the first parameter and anything else you want to add, used in case of alternate constuctors. can be run from the class and instance, but mostly ran from the class\n",
    "\n",
    "2. Regular methods, the one as above which prints the good reads search result URL , a regular method to do some functionn, takes the instance of a class or the class itself as a parameter \n",
    "\n",
    "3. Static Methods , do note take the class or the instance, they are in the class definition for a logical reason"
   ]
  },
  {
   "cell_type": "code",
   "execution_count": 38,
   "metadata": {},
   "outputs": [
    {
     "name": "stdout",
     "output_type": "stream",
     "text": [
      "17\n",
      "printing price for Blankets\n",
      "20\n",
      "Godfather\n",
      "\n",
      "{'title': 'GodFather', 'author': 'Mario Puzo', 'genre': 'Crime'}\n",
      "Print from the static method\n",
      "The book store address is - 37 rue de la Bûcherie ,75005 Paris, France\n"
     ]
    }
   ],
   "source": [
    "class FictionBook:\n",
    "    \n",
    "    def __init__(self,title,author,genre):\n",
    "        self.title = title\n",
    "        self.author = author\n",
    "        self.genre = genre\n",
    "#returns the good reads results of the book \n",
    "\n",
    "    def goodread_results(self):\n",
    "        return f\"https://www.goodreads.com/search?q={self.title}\"\n",
    "    \n",
    "# Class method to set price of a book\n",
    "\n",
    "    @classmethod\n",
    "    def set_book_price(cls,book_price):\n",
    "        cls.book_price = book_price\n",
    "    \n",
    "#Alternate constructor with a hyphenated string as an input, take that and return an object\n",
    "    @classmethod\n",
    "    def from_book_string(cls,book_string):\n",
    "        title, author, genre = book_string.split('-')\n",
    "        return cls(title,author,genre)\n",
    "    \n",
    "    @staticmethod\n",
    "    def print_address ():\n",
    "        print(\"The book store address is - 37 rue de la Bûcherie ,75005 Paris, France\")\n",
    "\n",
    "    \n",
    "# end of class definition \n",
    "\n",
    "\n",
    "# create three objects \n",
    "\n",
    "IQ84 = FictionBook (\"1Q84\",\"Haruki Murakami\",\"Magic Realism\")\n",
    "Watchmen = FictionBook (\"Watchmen\",\"John Higgins\",\"Graphic Novel\")\n",
    "Blankets = FictionBook (\"Blankets\",\"Craig McMillan\",\"Graphic Novel\")\n",
    "\n",
    "FictionBook.set_book_price(17)\n",
    "\n",
    "#print the book price for each book after running the class method\n",
    "\n",
    "print(IQ84.book_price)\n",
    "\n",
    "#overwite the class variable for Blankets to 20\n",
    "\n",
    "Blankets.set_book_price(20)\n",
    "\n",
    "# over write the book_price for Blankets to 21, by calling the class method using the instance\n",
    "print (\"printing price for Blankets\")\n",
    "print(Blankets.book_price)\n",
    "\n",
    "Godfather_string = \"GodFather-Mario Puzo-Crime\"\n",
    "\n",
    "\n",
    "#Create and call class using the alternate constructor\n",
    "Godfather = FictionBook.from_book_string(Godfather_string)\n",
    "\n",
    "#print the Godfather obhect\n",
    "print(\"Godfather\\n\")\n",
    "\n",
    "print(Godfather.__dict__)\n",
    "\n",
    "#invoke the static method\n",
    "\n",
    "print(\"Print from the static method\")\n",
    "Watchmen.print_address()\n"
   ]
  },
  {
   "cell_type": "markdown",
   "metadata": {},
   "source": [
    "## Sub classes and inheritance\n",
    "\n",
    "This is the follow along for the 4th video in the series . Creating a book class and created an inhertied class fiction book \n",
    "\n",
    "isinstance and issubclass return true or false, takes two parameters and return true or false."
   ]
  },
  {
   "cell_type": "code",
   "execution_count": 39,
   "metadata": {},
   "outputs": [
    {
     "name": "stdout",
     "output_type": "stream",
     "text": [
      "https://www.goodreads.com/search?q=Growth Mindset\n",
      "printing genre \n",
      "\n",
      "graphic novels\n"
     ]
    }
   ],
   "source": [
    "# Define the class book which takes the title of the book, name of the author and Genre\n",
    "class book:\n",
    "    def __init__(self,title,author,rating):\n",
    "        self.title = title\n",
    "        self.author = author\n",
    "        self.rating = rating\n",
    "#returns the good reads results of the book \n",
    "\n",
    "    def goodread_results(self):\n",
    "        return f\"https://www.goodreads.com/search?q={self.title}\"\n",
    "    \n",
    "# Create an inherited class which is Fiction and includes Genre\n",
    "\n",
    "class FictionBook(book):\n",
    "    def __init__(self,title,author,rating,genre):\n",
    "        super().__init__(self,title,author)\n",
    "        self.genre = genre\n",
    "  \n",
    "#create a general book instance\n",
    "\n",
    "GrowthMindset = book(\"Growth Mindset\",\"Carol Beck\", 4)\n",
    "\n",
    "#print the parent object good read results\n",
    "print(GrowthMindset.goodread_results())\n",
    "\n",
    "#created inherited class object \n",
    "\n",
    "Watchmen = FictionBook(\"Watchmen\",\"John Higgins\",5,\"graphic novels\")\n",
    "\n",
    "#print the inhertied class attribute of genre\n",
    "\n",
    "print (\"printing genre \\n\")\n",
    "print(Watchmen.genre)\n"
   ]
  },
  {
   "cell_type": "markdown",
   "metadata": {},
   "source": [
    "## Special / magic Methods\n",
    "\n",
    "Special methods usually preceeded by double under score and init and hence the name dunder init ! rmeinds me of dunder mifflin .\n",
    "Repr - unambiguous representation of object \n",
    "Str- readable description of an object \n"
   ]
  },
  {
   "cell_type": "code",
   "execution_count": 40,
   "metadata": {},
   "outputs": [
    {
     "name": "stdout",
     "output_type": "stream",
     "text": [
      "FictionBook('1Q84','Haruki Murakami','Magic Realism')\n"
     ]
    }
   ],
   "source": [
    "class FictionBook:\n",
    "    \n",
    "    def __init__(self,title,author,genre):\n",
    "        self.title = title\n",
    "        self.author = author\n",
    "        self.genre = genre\n",
    "#returns the good reads results of the book \n",
    "\n",
    "    def goodread_results(self):\n",
    "        return f\"https://www.goodreads.com/search?q={self.title}\"\n",
    "    \n",
    "# Class method to set price of a book\n",
    "\n",
    "    @classmethod\n",
    "    def set_book_price(cls,book_price):\n",
    "        cls.book_price = book_price\n",
    "    \n",
    "#Alternate constructor with a hyphenated string as an input, take that and return an object\n",
    "    @classmethod\n",
    "    def from_book_string(cls,book_string):\n",
    "        title, author, genre = book_string.split('-')\n",
    "        return cls(title,author,genre)\n",
    "    \n",
    "    @staticmethod\n",
    "    def print_address ():\n",
    "        print(\"The book store address is - 37 rue de la Bûcherie ,75005 Paris, France\")\n",
    "\n",
    "#dunder methods\n",
    "\n",
    "    def __repr__(self):\n",
    "        return \"FictionBook('{}','{}','{}')\".format(self.title,self.author,self.genre)\n",
    "    \n",
    "#    def __str__(self):\n",
    "#        return '{} -{}'. format(self.title,self.author)\n",
    "        \n",
    "    \n",
    "# end of class definition \n",
    "\n",
    "\n",
    "# create three objects \n",
    "\n",
    "IQ84 = FictionBook (\"1Q84\",\"Haruki Murakami\",\"Magic Realism\")\n",
    "Watchmen = FictionBook (\"Watchmen\",\"John Higgins\",\"Graphic Novel\")\n",
    "Blankets = FictionBook (\"Blankets\",\"Craig McMillan\",\"Graphic Novel\")\n",
    "\n",
    "#print the object\n",
    "\n",
    "print(IQ84)\n",
    "\n"
   ]
  },
  {
   "cell_type": "markdown",
   "metadata": {},
   "source": [
    "In the above code when the object is printed, dunder str is called first and then dunder repr, based on the overload. In that order. Other dunder methods, include len, add, mul, sub etc . return notImplemented is to let the other function see "
   ]
  },
  {
   "cell_type": "code",
   "execution_count": 41,
   "metadata": {},
   "outputs": [
    {
     "ename": "SyntaxError",
     "evalue": "invalid syntax (<ipython-input-41-5a760ccea5fc>, line 3)",
     "output_type": "error",
     "traceback": [
      "\u001b[0;36m  File \u001b[0;32m\"<ipython-input-41-5a760ccea5fc>\"\u001b[0;36m, line \u001b[0;32m3\u001b[0m\n\u001b[0;31m    For this section I will be using the employee object  as there is more flexibility with what can be done there, as oppoosed to books and genres and author names.\u001b[0m\n\u001b[0m           ^\u001b[0m\n\u001b[0;31mSyntaxError\u001b[0m\u001b[0;31m:\u001b[0m invalid syntax\n"
     ]
    }
   ],
   "source": [
    "## Property getter and setter methods\n",
    "\n",
    "For this section I will be using the employee object  as there is more flexibility with what can be done there, as oppoosed to books and genres and author names.\n",
    "Didnt add the code for deleter, but it's on the same lines.\n"
   ]
  },
  {
   "cell_type": "code",
   "execution_count": 42,
   "metadata": {},
   "outputs": [
    {
     "name": "stdout",
     "output_type": "stream",
     "text": [
      "Sharanya\n",
      "Vemu\n",
      "Sharanya Vemu\n"
     ]
    }
   ],
   "source": [
    "# Begin class definition \n",
    "\n",
    "class Employee:\n",
    "    def __init__(self,first,last):\n",
    "        self.first = first\n",
    "        self.last = last\n",
    "        \n",
    "    @property\n",
    "    def email(self):\n",
    "        return '{}.{}@email.com'.format(self.first,self.last)\n",
    "    @property\n",
    "    def fullname(self):\n",
    "        return '{} {}'.format(self.first,self.last)\n",
    "    \n",
    "       \n",
    "    @fullname.setter\n",
    "    def fullname(self,name):\n",
    "        first,last =name.split(' ')\n",
    "        self.first = first\n",
    "        self.last = last\n",
    "        \n",
    "emp_1 = Employee('John', 'Smith')\n",
    "emp_1.fullname =\"Sharanya Vemu\"\n",
    "\n",
    "print(emp_1.first)\n",
    "print(emp_1.last)\n",
    "print(emp_1.fullname)\n",
    "      \n",
    "\n",
    "    "
   ]
  },
  {
   "cell_type": "markdown",
   "metadata": {},
   "source": [
    "That ends the Object oriented programming , there are of course multi classes and other behaviors, but these 6 concepts/lessons/videos were good enough to follow along, get some practice and get started."
   ]
  },
  {
   "cell_type": "code",
   "execution_count": null,
   "metadata": {},
   "outputs": [],
   "source": []
  }
 ],
 "metadata": {
  "kernelspec": {
   "display_name": "Python 3.6",
   "language": "python",
   "name": "python36"
  },
  "language_info": {
   "codemirror_mode": {
    "name": "ipython",
    "version": 3
   },
   "file_extension": ".py",
   "mimetype": "text/x-python",
   "name": "python",
   "nbconvert_exporter": "python",
   "pygments_lexer": "ipython3",
   "version": "3.6.3"
  }
 },
 "nbformat": 4,
 "nbformat_minor": 2
}
